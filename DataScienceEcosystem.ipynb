{
 "cells": [
  {
   "cell_type": "markdown",
   "id": "bdef85bb-6ee3-4686-8584-6119d4a714e0",
   "metadata": {},
   "source": [
    "# Final Project Notebook"
   ]
  },
  {
   "cell_type": "markdown",
   "id": "d528287e-7823-4b4a-8898-360f11efc713",
   "metadata": {
    "panel-layout": {
     "height": 10,
     "visible": true,
     "width": 100
    }
   },
   "source": [
    "This notebook is created as part of the final project for the data science tools course."
   ]
  },
  {
   "cell_type": "markdown",
   "id": "9cb39eb9-9529-4d6d-8d3d-b11f5d1c0073",
   "metadata": {},
   "source": [
    "## Data Science Languages\n",
    "- Python\n",
    "- R\n",
    "- SQL\n",
    "- Julia\n",
    "- Scala"
   ]
  },
  {
   "cell_type": "markdown",
   "id": "94eb52af-ce55-4756-9d28-b9151e1ff8ca",
   "metadata": {},
   "source": [
    "## Data Science Libraries\n",
    "- Pandas\n",
    "- NumPy\n",
    "- Matplotlib\n",
    "- Scikit-learn\n",
    "- TensorFlow"
   ]
  },
  {
   "cell_type": "markdown",
   "id": "b9766cc3-d8ff-45fb-9572-daec1165a406",
   "metadata": {},
   "source": [
    "## Data Science Tools\n",
    "| Tool         | Purpose              |\n",
    "|--------------|----------------------|\n",
    "| Jupyter      | Notebook environment |\n",
    "| RStudio      | Data analysis        |\n",
    "| Apache Spark | Big data processing  |"
   ]
  },
  {
   "cell_type": "markdown",
   "id": "79fbcd5d-61c4-4bcb-8527-0b4da0ecab19",
   "metadata": {},
   "source": [
    " ## Arithmetic Expressions\n",
    "Arithmetic expressions involve operations like addition, subtraction, multiplication, and division."
   ]
  },
  {
   "cell_type": "code",
   "execution_count": 16,
   "id": "77ff17d4-f05d-464a-82dd-bf77453ae3bb",
   "metadata": {},
   "outputs": [
    {
     "data": {
      "text/plain": [
       "30"
      ]
     },
     "execution_count": 16,
     "metadata": {},
     "output_type": "execute_result"
    }
   ],
   "source": [
    "# Multiplication and addition example\n",
    "result = (5 * 4) + 10\n",
    "result"
   ]
  },
  {
   "cell_type": "code",
   "execution_count": 18,
   "id": "db6c8430-ba21-4c69-93a3-8cbfff4ebf70",
   "metadata": {},
   "outputs": [
    {
     "data": {
      "text/plain": [
       "2.0"
      ]
     },
     "execution_count": 18,
     "metadata": {},
     "output_type": "execute_result"
    }
   ],
   "source": [
    "# Convert minutes to hours\n",
    "minutes = 120\n",
    "hours = minutes / 60\n",
    "hours"
   ]
  },
  {
   "cell_type": "markdown",
   "id": "4b958d29-9815-4f94-86cc-2e22e4f64109",
   "metadata": {},
   "source": [
    "## Objectives\n",
    "- Learn data science tools and libraries.\n",
    "- Perform basic arithmetic operations.\n",
    "- Share the notebook via GitHub."
   ]
  },
  {
   "cell_type": "markdown",
   "id": "6a5d6b4e-87cc-4858-81b1-0d8078bd4e7f",
   "metadata": {},
   "source": [
    "## Author\n",
    "**Mujtaba Badr**"
   ]
  },
  {
   "cell_type": "code",
   "execution_count": null,
   "id": "dd48ff3e-d26c-4907-b77d-4cfcf2121ebd",
   "metadata": {},
   "outputs": [],
   "source": []
  }
 ],
 "metadata": {
  "kernelspec": {
   "display_name": "Python 3 (ipykernel)",
   "language": "python",
   "name": "python3"
  },
  "language_info": {
   "codemirror_mode": {
    "name": "ipython",
    "version": 3
   },
   "file_extension": ".py",
   "mimetype": "text/x-python",
   "name": "python",
   "nbconvert_exporter": "python",
   "pygments_lexer": "ipython3",
   "version": "3.12.4"
  },
  "panel-cell-order": [
   "d528287e-7823-4b4a-8898-360f11efc713"
  ]
 },
 "nbformat": 4,
 "nbformat_minor": 5
}
